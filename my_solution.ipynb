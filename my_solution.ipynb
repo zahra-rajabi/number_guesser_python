{
 "cells": [
  {
   "cell_type": "code",
   "execution_count": 1,
   "id": "701c2fe0",
   "metadata": {},
   "outputs": [],
   "source": [
    "import random"
   ]
  },
  {
   "cell_type": "code",
   "execution_count": null,
   "id": "fcd8bdf4",
   "metadata": {},
   "outputs": [
    {
     "name": "stdout",
     "output_type": "stream",
     "text": [
      "12\n",
      "your number is less than the random number\n",
      "your remain lives 2\n",
      "323\n",
      "your number is more than the random number\n",
      "your remain lives 1\n",
      "please enter a valid number\n",
      "32\n",
      "your number is more than the random number\n",
      "your remain lives 0\n",
      "you lost\n",
      "the number was 25\n"
     ]
    }
   ],
   "source": [
    "user_lives = 3\n",
    "randnum = 25\n",
    "\n",
    "while True:\n",
    "        try:\n",
    "            user_guess = int(input('guess a number between 1 and 100:'))\n",
    "            print(user_guess)\n",
    "            if user_guess == randnum :\n",
    "                print('you won')\n",
    "                break\n",
    "            elif user_guess > randnum:\n",
    "                print('your number is more than the random number')\n",
    "                user_lives -= 1\n",
    "                print('your remain lives' , user_lives)\n",
    "                \n",
    "            else: \n",
    "                print('your number is less than the random number')\n",
    "                user_lives -=1\n",
    "                print('your remain lives' , user_lives)\n",
    "                \n",
    "            \n",
    "            if user_lives == 0:\n",
    "                 print('you lost')\n",
    "                 print('the number was' , randnum)\n",
    "                 break\n",
    "        except ValueError:\n",
    "            print('please enter a valid number')\n",
    "        \n",
    "\n",
    "    \n",
    "\n",
    "    "
   ]
  }
 ],
 "metadata": {
  "kernelspec": {
   "display_name": "base",
   "language": "python",
   "name": "python3"
  },
  "language_info": {
   "codemirror_mode": {
    "name": "ipython",
    "version": 3
   },
   "file_extension": ".py",
   "mimetype": "text/x-python",
   "name": "python",
   "nbconvert_exporter": "python",
   "pygments_lexer": "ipython3",
   "version": "3.12.7"
  }
 },
 "nbformat": 4,
 "nbformat_minor": 5
}
