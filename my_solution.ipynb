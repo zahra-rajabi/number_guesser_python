{
 "cells": [
  {
   "cell_type": "code",
   "execution_count": null,
   "id": "701c2fe0",
   "metadata": {},
   "outputs": [],
   "source": [
    "import random"
   ]
  },
  {
   "cell_type": "code",
   "execution_count": 18,
   "id": "fcd8bdf4",
   "metadata": {},
   "outputs": [
    {
     "name": "stdout",
     "output_type": "stream",
     "text": [
      "m\n",
      "enter a valid number\n",
      "e\n",
      "enter a valid number\n",
      "q\n",
      "random number was 25\n",
      "goodbye\n"
     ]
    }
   ],
   "source": [
    "user_lives = 3\n",
    "randnum = 25\n",
    "\n",
    "while True:\n",
    "            user_guess = input('guess a number between 1 and 100:[enter q to quit]')\n",
    "            print(user_guess)\n",
    "            if user_guess == 'q':\n",
    "                 print('random number was' , randnum)\n",
    "                 print('goodbye')\n",
    "                 break\n",
    "            \n",
    "            try:\n",
    "                user_guess = int(user_guess)\n",
    "            except ValueError :\n",
    "                 print('enter a valid number')\n",
    "                 continue\n",
    "            \n",
    "            if user_guess > 100 or user_guess < 1:\n",
    "                 print('enter a number between 1 and 100')\n",
    "                 continue\n",
    "            \n",
    "            if user_guess == randnum :\n",
    "                print('you won')\n",
    "                break\n",
    "            elif user_guess > randnum:\n",
    "                print('your number is more than the random number')\n",
    "                \n",
    "            else: \n",
    "                print('your number is less than the random number')\n",
    "\n",
    "            user_lives -=1\n",
    "            if user_lives == 0:\n",
    "                 print('you lost')\n",
    "                 print('the number was' , randnum)\n",
    "                 break\n",
    "            print('your remain live is' , user_lives)\n",
    "            \n",
    "        \n",
    "\n",
    "    \n",
    "\n",
    "    "
   ]
  },
  {
   "cell_type": "code",
   "execution_count": null,
   "id": "d1b38177",
   "metadata": {},
   "outputs": [],
   "source": []
  }
 ],
 "metadata": {
  "kernelspec": {
   "display_name": "base",
   "language": "python",
   "name": "python3"
  },
  "language_info": {
   "codemirror_mode": {
    "name": "ipython",
    "version": 3
   },
   "file_extension": ".py",
   "mimetype": "text/x-python",
   "name": "python",
   "nbconvert_exporter": "python",
   "pygments_lexer": "ipython3",
   "version": "3.12.7"
  }
 },
 "nbformat": 4,
 "nbformat_minor": 5
}
