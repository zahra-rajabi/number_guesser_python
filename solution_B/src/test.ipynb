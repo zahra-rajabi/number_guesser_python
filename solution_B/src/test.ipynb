{
 "cells": [
  {
   "cell_type": "code",
   "execution_count": 1,
   "id": "4a6dbca9",
   "metadata": {},
   "outputs": [],
   "source": [
    "import sys"
   ]
  },
  {
   "cell_type": "code",
   "execution_count": 2,
   "id": "8b4fcf9e",
   "metadata": {},
   "outputs": [
    {
     "data": {
      "text/plain": [
       "['c:\\\\Users\\\\A.S.T.co\\\\Desktop\\\\number-gusser-project\\\\solusion_B\\\\src',\n",
       " 'c:\\\\Users\\\\A.S.T.co\\\\anaconda3\\\\python312.zip',\n",
       " 'c:\\\\Users\\\\A.S.T.co\\\\anaconda3\\\\DLLs',\n",
       " 'c:\\\\Users\\\\A.S.T.co\\\\anaconda3\\\\Lib',\n",
       " 'c:\\\\Users\\\\A.S.T.co\\\\anaconda3',\n",
       " '',\n",
       " 'c:\\\\Users\\\\A.S.T.co\\\\anaconda3\\\\Lib\\\\site-packages',\n",
       " 'c:\\\\Users\\\\A.S.T.co\\\\anaconda3\\\\Lib\\\\site-packages\\\\win32',\n",
       " 'c:\\\\Users\\\\A.S.T.co\\\\anaconda3\\\\Lib\\\\site-packages\\\\win32\\\\lib',\n",
       " 'c:\\\\Users\\\\A.S.T.co\\\\anaconda3\\\\Lib\\\\site-packages\\\\Pythonwin',\n",
       " 'c:\\\\Users\\\\A.S.T.co\\\\anaconda3\\\\Lib\\\\site-packages\\\\setuptools\\\\_vendor']"
      ]
     },
     "execution_count": 2,
     "metadata": {},
     "output_type": "execute_result"
    }
   ],
   "source": [
    "sys.path"
   ]
  },
  {
   "cell_type": "code",
   "execution_count": null,
   "id": "73194cd6",
   "metadata": {},
   "outputs": [],
   "source": []
  }
 ],
 "metadata": {
  "kernelspec": {
   "display_name": "base",
   "language": "python",
   "name": "python3"
  },
  "language_info": {
   "codemirror_mode": {
    "name": "ipython",
    "version": 3
   },
   "file_extension": ".py",
   "mimetype": "text/x-python",
   "name": "python",
   "nbconvert_exporter": "python",
   "pygments_lexer": "ipython3",
   "version": "3.12.7"
  }
 },
 "nbformat": 4,
 "nbformat_minor": 5
}
